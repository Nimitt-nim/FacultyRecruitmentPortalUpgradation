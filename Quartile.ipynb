{
 "cells": [
  {
   "attachments": {},
   "cell_type": "markdown",
   "metadata": {},
   "source": [
    "GETTING JOURNAL NAME FROM DOI NUMER"
   ]
  },
  {
   "cell_type": "code",
   "execution_count": null,
   "metadata": {},
   "outputs": [],
   "source": [
    "import requests\n",
    "def get_journal_and_authors_from_doi(doi):\n",
    "    url = f\"https://api.crossref.org/works/{doi}\"\n",
    "    try:\n",
    "        response = requests.get(url)\n",
    "        if response.status_code == 200:\n",
    "            data = response.json()\n",
    "            journal_name = data['message']['container-title'][0]  \n",
    "            authors = data['message']['author']\n",
    "            author_names = [f\"{author['given']} {author['family']}\" for author in authors]\n",
    "            return journal_name, author_names\n",
    "        else:\n",
    "            print(f\"Error 2. Status code: {response.status_code}\")\n",
    "    except:\n",
    "        print(f\"Error 1.\")\n",
    "doi = \"10.1029/2020JD034193\" \n",
    "journal_name, author_names = get_journal_and_authors_from_doi(doi)\n",
    "if journal_name and author_names:\n",
    "    print(f\"Journal Name: {journal_name}\")\n",
    "    print(\"Number of Authors: \",len(author_names))\n",
    "    for author in author_names:\n",
    "        print(author)\n",
    "else:\n",
    "    print(\"Error 0.\")"
   ]
  },
  {
   "attachments": {},
   "cell_type": "markdown",
   "metadata": {},
   "source": [
    "JOURNAL NAME TO QUARTILE"
   ]
  },
  {
   "cell_type": "code",
   "execution_count": null,
   "metadata": {},
   "outputs": [],
   "source": [
    "###"
   ]
  }
 ],
 "metadata": {
  "language_info": {
   "name": "python"
  },
  "orig_nbformat": 4
 },
 "nbformat": 4,
 "nbformat_minor": 2
}
